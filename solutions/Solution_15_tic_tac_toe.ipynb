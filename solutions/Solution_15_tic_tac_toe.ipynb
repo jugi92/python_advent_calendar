{
 "cells": [
  {
   "cell_type": "markdown",
   "metadata": {},
   "source": [
    "Ok, we were able to play with our colleague, but it would be really nice if the game itself detects when someone won:"
   ]
  },
  {
   "cell_type": "code",
   "execution_count": 1,
   "metadata": {
    "tags": [
     "solution"
    ]
   },
   "outputs": [],
   "source": [
    "class TicTacToe:\n",
    "    def __init__(self, size=3):\n",
    "        self.turn = 0\n",
    "        self.size = size\n",
    "        self.signs = [\"O\", \"X\"]\n",
    "        self.playground = [[None for r in range(self.size)] for c in range(self.size)]\n",
    "    \n",
    "    def __repr__(self):\n",
    "        return \"\\n\".join([str(x) for x in self.playground])\n",
    "    \n",
    "    def put(self, col, row, sign):\n",
    "        assert row in range(self.size)\n",
    "        assert col in range(self.size)\n",
    "        assert self.playground[row][col] is None, \"Field already taken\"\n",
    "        assert sign == self.signs[self.turn % len(self.signs)], \"Not your turn\"\n",
    "        self.playground[row][col] = sign\n",
    "        won = self._won()\n",
    "        if won:\n",
    "            print(f\"🎉Congrats {won}, you won🎉\")\n",
    "        print(self)\n",
    "        self.turn = self.turn + 1\n",
    "    \n",
    "    def _won(self):\n",
    "        won = None\n",
    "        for row in self.playground:\n",
    "            won = row[0] if len(list(filter(lambda x: x == row[0], row))) == self.size else won\n",
    "        \n",
    "        rowsAsCols = [[self.playground[r][c] for r in range(self.size)] for c in range(self.size)]\n",
    "        for row in rowsAsCols:\n",
    "            won = row[0] if len(list(filter(lambda x: x == row[0], row))) == self.size else won\n",
    "        \n",
    "        diagAsCols = [[self.playground[r][r] for r in range(self.size)], [self.playground[r][(-1*r)-1] for r in range(self.size)]]\n",
    "        for row in diagAsCols:\n",
    "            won = row[0] if len(list(filter(lambda x: x == row[0], row))) == self.size else won\n",
    "        return won"
   ]
  },
  {
   "cell_type": "code",
   "execution_count": 2,
   "metadata": {},
   "outputs": [],
   "source": [
    "ttt = TicTacToe()"
   ]
  },
  {
   "cell_type": "code",
   "execution_count": 3,
   "metadata": {},
   "outputs": [
    {
     "data": {
      "text/plain": [
       "[None, None, None]\n",
       "[None, None, None]\n",
       "[None, None, None]"
      ]
     },
     "execution_count": 3,
     "metadata": {},
     "output_type": "execute_result"
    }
   ],
   "source": [
    "ttt"
   ]
  },
  {
   "cell_type": "code",
   "execution_count": 4,
   "metadata": {},
   "outputs": [
    {
     "name": "stdout",
     "output_type": "stream",
     "text": [
      "[None, None, None]\n",
      "[None, None, None]\n",
      "[None, 'O', None]\n"
     ]
    }
   ],
   "source": [
    "ttt.put(col=1, row=2, sign=\"O\")"
   ]
  },
  {
   "cell_type": "code",
   "execution_count": 5,
   "metadata": {},
   "outputs": [
    {
     "name": "stdout",
     "output_type": "stream",
     "text": [
      "[None, None, None]\n",
      "[None, 'X', None]\n",
      "[None, 'O', None]\n"
     ]
    }
   ],
   "source": [
    "ttt.put(col=1, row=1, sign=\"X\")"
   ]
  },
  {
   "cell_type": "code",
   "execution_count": 6,
   "metadata": {},
   "outputs": [
    {
     "name": "stdout",
     "output_type": "stream",
     "text": [
      "[None, None, None]\n",
      "[None, 'X', None]\n",
      "['O', 'O', None]\n"
     ]
    }
   ],
   "source": [
    "ttt.put(0, 2, sign=\"O\")"
   ]
  },
  {
   "cell_type": "code",
   "execution_count": 7,
   "metadata": {},
   "outputs": [
    {
     "name": "stdout",
     "output_type": "stream",
     "text": [
      "[None, 'X', None]\n",
      "[None, 'X', None]\n",
      "['O', 'O', None]\n"
     ]
    }
   ],
   "source": [
    "ttt.put(1, 0, sign=\"X\")"
   ]
  },
  {
   "cell_type": "code",
   "execution_count": 8,
   "metadata": {},
   "outputs": [
    {
     "name": "stdout",
     "output_type": "stream",
     "text": [
      "🎉Congrats O, you won🎉\n",
      "[None, 'X', None]\n",
      "[None, 'X', None]\n",
      "['O', 'O', 'O']\n"
     ]
    }
   ],
   "source": [
    "ttt.put(2, 2, sign=\"O\")"
   ]
  }
 ],
 "metadata": {
  "kernelspec": {
   "display_name": "Python 3",
   "language": "python",
   "name": "python3"
  },
  "language_info": {
   "codemirror_mode": {
    "name": "ipython",
    "version": 3
   },
   "file_extension": ".py",
   "mimetype": "text/x-python",
   "name": "python",
   "nbconvert_exporter": "python",
   "pygments_lexer": "ipython3",
   "version": "3.7.9"
  }
 },
 "nbformat": 4,
 "nbformat_minor": 4
}
