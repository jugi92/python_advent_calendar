{
 "cells": [
  {
   "cell_type": "markdown",
   "metadata": {},
   "source": [
    "Google offers a tic tac toe if you google for it: https://www.google.de/search?q=tic+tac+toe\n",
    "Lets try to rebuild that in python:"
   ]
  },
  {
   "cell_type": "code",
   "execution_count": 1,
   "metadata": {},
   "outputs": [],
   "source": [
    "class TicTacToe:\n",
    "    def __init__(self, size=3):\n",
    "        self.turn = 0\n",
    "        self.size = size\n",
    "        self.signs = [\"O\", \"X\"]\n",
    "        self.playground = [[None for r in range(self.size)] for c in range(self.size)]\n",
    "    \n",
    "    def __repr__(self):\n",
    "        return \"\\n\".join([str(x) for x in self.playground])\n",
    "    \n",
    "    def put(self, col, row, sign):\n",
    "        assert row in range(self.size)\n",
    "        assert col in range(self.size)\n",
    "        assert self.playground[row][col] is None, \"Field already taken\"\n",
    "        assert sign == self.signs[self.turn % len(self.signs)], \"Not your turn\"\n",
    "        self.playground[row][col] = sign\n",
    "        won = self._won()\n",
    "        if won:\n",
    "            print(f\"🎉Congrats {won}, you won🎉\")\n",
    "        print(self)\n",
    "        self.turn = self.turn + 1\n",
    "    \n",
    "    def _won(self):\n",
    "        won = None\n",
    "        for row in self.playground:\n",
    "            won = row[0] if len(list(filter(lambda x: x == row[0], row))) == self.size else won\n",
    "        \n",
    "        rowsAsCols = [[self.playground[r][c] for r in range(self.size)] for c in range(self.size)]\n",
    "        for row in rowsAsCols:\n",
    "            won = row[0] if len(list(filter(lambda x: x == row[0], row))) == self.size else won\n",
    "        \n",
    "        diagAsCols = [[self.playground[r][r] for r in range(self.size)], [self.playground[r][(-1*r)-1] for r in range(self.size)]]\n",
    "        for row in diagAsCols:\n",
    "            won = row[0] if len(list(filter(lambda x: x == row[0], row))) == self.size else won\n",
    "        return won"
   ]
  },
  {
   "cell_type": "code",
   "execution_count": 2,
   "metadata": {},
   "outputs": [],
   "source": [
    "ttt = TicTacToe()"
   ]
  },
  {
   "cell_type": "code",
   "execution_count": 3,
   "metadata": {},
   "outputs": [
    {
     "data": {
      "text/plain": [
       "[None, None, None]\n",
       "[None, None, None]\n",
       "[None, None, None]"
      ]
     },
     "execution_count": 3,
     "metadata": {},
     "output_type": "execute_result"
    }
   ],
   "source": [
    "ttt"
   ]
  },
  {
   "cell_type": "code",
   "execution_count": 4,
   "metadata": {},
   "outputs": [
    {
     "name": "stdout",
     "output_type": "stream",
     "text": [
      "[None, None, None]\n",
      "[None, None, None]\n",
      "[None, 'O', None]\n"
     ]
    }
   ],
   "source": [
    "ttt.put(col=1, row=2, sign=\"O\")"
   ]
  },
  {
   "cell_type": "code",
   "execution_count": 5,
   "metadata": {},
   "outputs": [
    {
     "name": "stdout",
     "output_type": "stream",
     "text": [
      "[None, None, None]\n",
      "[None, 'X', None]\n",
      "[None, 'O', None]\n"
     ]
    }
   ],
   "source": [
    "ttt.put(col=1, row=1, sign=\"X\")"
   ]
  },
  {
   "cell_type": "code",
   "execution_count": 6,
   "metadata": {},
   "outputs": [
    {
     "name": "stdout",
     "output_type": "stream",
     "text": [
      "[None, None, None]\n",
      "[None, 'X', None]\n",
      "['O', 'O', None]\n"
     ]
    }
   ],
   "source": [
    "ttt.put(0, 2, sign=\"O\")"
   ]
  },
  {
   "cell_type": "code",
   "execution_count": 7,
   "metadata": {},
   "outputs": [
    {
     "name": "stdout",
     "output_type": "stream",
     "text": [
      "[None, 'X', None]\n",
      "[None, 'X', None]\n",
      "['O', 'O', None]\n"
     ]
    }
   ],
   "source": [
    "ttt.put(1, 0, sign=\"X\")"
   ]
  },
  {
   "cell_type": "code",
   "execution_count": 8,
   "metadata": {},
   "outputs": [
    {
     "name": "stdout",
     "output_type": "stream",
     "text": [
      "🎉Congrats O, you won🎉\n",
      "[None, 'X', None]\n",
      "[None, 'X', None]\n",
      "['O', 'O', 'O']\n"
     ]
    }
   ],
   "source": [
    "ttt.put(2, 2, sign=\"O\")"
   ]
  },
  {
   "cell_type": "code",
   "execution_count": 9,
   "metadata": {},
   "outputs": [],
   "source": [
    "class Player:\n",
    "    def __init__(self, ttt: TicTacToe, sign=\"X\"):\n",
    "        self.game = ttt\n",
    "        self.sign = sign\n",
    "        print(\"Lets play\")\n",
    "    def play(self):\n",
    "        \"\"\"\n",
    "        Write a player strategy here\n",
    "        In the end it should call \n",
    "        self.game.put(row, col, self.sign)\n",
    "        \"\"\"\n",
    "        pass"
   ]
  },
  {
   "cell_type": "code",
   "execution_count": null,
   "metadata": {
    "tags": [
     "task"
    ]
   },
   "outputs": [],
   "source": [
    "class MyPlayer(Player):\n",
    "    def play(self):\n",
    "        # write a class MyPlayer that inherits from Player and has a play strategy, so that the code below could work if you play against you artificial player"
   ]
  },
  {
   "cell_type": "code",
   "execution_count": 11,
   "metadata": {},
   "outputs": [],
   "source": [
    "ttt = TicTacToe()"
   ]
  },
  {
   "cell_type": "code",
   "execution_count": 12,
   "metadata": {},
   "outputs": [
    {
     "name": "stdout",
     "output_type": "stream",
     "text": [
      "Lets play\n"
     ]
    }
   ],
   "source": [
    "player = MyPlayer(ttt=ttt)"
   ]
  },
  {
   "cell_type": "code",
   "execution_count": 13,
   "metadata": {},
   "outputs": [
    {
     "name": "stdout",
     "output_type": "stream",
     "text": [
      "Seems like its not my turn\n"
     ]
    }
   ],
   "source": [
    "player.play()"
   ]
  },
  {
   "cell_type": "code",
   "execution_count": 14,
   "metadata": {},
   "outputs": [
    {
     "name": "stdout",
     "output_type": "stream",
     "text": [
      "[None, None, None]\n",
      "[None, 'O', None]\n",
      "[None, None, None]\n"
     ]
    }
   ],
   "source": [
    "ttt.put(1,1,\"O\")"
   ]
  },
  {
   "cell_type": "code",
   "execution_count": 15,
   "metadata": {},
   "outputs": [
    {
     "name": "stdout",
     "output_type": "stream",
     "text": [
      "[None, None, None]\n",
      "[None, 'O', None]\n",
      "['X', None, None]\n"
     ]
    }
   ],
   "source": [
    "player.play()"
   ]
  },
  {
   "cell_type": "code",
   "execution_count": 16,
   "metadata": {},
   "outputs": [
    {
     "name": "stdout",
     "output_type": "stream",
     "text": [
      "[None, 'O', None]\n",
      "[None, 'O', None]\n",
      "['X', None, None]\n"
     ]
    }
   ],
   "source": [
    "ttt.put(1,0,\"O\")"
   ]
  },
  {
   "cell_type": "code",
   "execution_count": 17,
   "metadata": {},
   "outputs": [
    {
     "name": "stdout",
     "output_type": "stream",
     "text": [
      "[None, 'O', None]\n",
      "['X', 'O', None]\n",
      "['X', None, None]\n"
     ]
    }
   ],
   "source": [
    "player.play()"
   ]
  },
  {
   "cell_type": "code",
   "execution_count": 18,
   "metadata": {},
   "outputs": [
    {
     "name": "stdout",
     "output_type": "stream",
     "text": [
      "['O', 'O', None]\n",
      "['X', 'O', None]\n",
      "['X', None, None]\n"
     ]
    }
   ],
   "source": [
    "ttt.put(0,0,\"O\")"
   ]
  },
  {
   "cell_type": "code",
   "execution_count": 19,
   "metadata": {},
   "outputs": [
    {
     "name": "stdout",
     "output_type": "stream",
     "text": [
      "['O', 'O', 'X']\n",
      "['X', 'O', None]\n",
      "['X', None, None]\n"
     ]
    }
   ],
   "source": [
    "player.play()"
   ]
  },
  {
   "cell_type": "code",
   "execution_count": 20,
   "metadata": {},
   "outputs": [
    {
     "name": "stdout",
     "output_type": "stream",
     "text": [
      "🎉Congrats O, you won🎉\n",
      "['O', 'O', 'X']\n",
      "['X', 'O', None]\n",
      "['X', 'O', None]\n"
     ]
    }
   ],
   "source": [
    "ttt.put(1,2,\"O\")"
   ]
  }
 ],
 "metadata": {
  "kernelspec": {
   "display_name": "Python 3",
   "language": "python",
   "name": "python3"
  },
  "language_info": {
   "codemirror_mode": {
    "name": "ipython",
    "version": 3
   },
   "file_extension": ".py",
   "mimetype": "text/x-python",
   "name": "python",
   "nbconvert_exporter": "python",
   "pygments_lexer": "ipython3",
   "version": "3.7.9"
  }
 },
 "nbformat": 4,
 "nbformat_minor": 4
}
