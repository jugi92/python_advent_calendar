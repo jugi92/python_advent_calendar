{
 "cells": [
  {
   "cell_type": "markdown",
   "metadata": {},
   "source": [
    "Google offers a tic tac toe if you google for it: https://www.google.de/search?q=tic+tac+toe\n",
    "Lets try to rebuild the game in python. This tutorial assumes you already heard about python [classes](https://docs.python.org/3/tutorial/classes.html). Classes are the basis for the greater topic of [object oriented programming](https://realpython.com/python3-object-oriented-programming)."
   ]
  },
  {
   "cell_type": "code",
   "execution_count": null,
   "metadata": {
    "tags": [
     "task"
    ]
   },
   "outputs": [],
   "source": [
    "class TicTacToe:\n",
    "    def __init__(self, size=3):\n",
    "        self.turn = 0\n",
    "        self.size = size\n",
    "        self.signs = [\"O\", \"X\"]\n",
    "        self.playground = [[None for r in range(self.size)] for c in range(self.size)]\n",
    "    \n",
    "    def __repr__(self):\n",
    "        return \"\\n\".join([str(x) for x in self.playground])\n",
    "    \n",
    "    def put(self, col, row, sign):\n",
    "        # Write code here, that enables us to play with our colleague (while sitting together in front of one pc and typing in code like below, remote play would be a bigger challenge)"
   ]
  },
  {
   "cell_type": "code",
   "execution_count": 2,
   "metadata": {},
   "outputs": [],
   "source": [
    "ttt = TicTacToe()"
   ]
  },
  {
   "cell_type": "code",
   "execution_count": 3,
   "metadata": {},
   "outputs": [
    {
     "data": {
      "text/plain": [
       "[None, None, None]\n",
       "[None, None, None]\n",
       "[None, None, None]"
      ]
     },
     "execution_count": 3,
     "metadata": {},
     "output_type": "execute_result"
    }
   ],
   "source": [
    "ttt"
   ]
  },
  {
   "cell_type": "code",
   "execution_count": 4,
   "metadata": {},
   "outputs": [
    {
     "name": "stdout",
     "output_type": "stream",
     "text": [
      "[None, None, None]\n",
      "[None, None, None]\n",
      "[None, 'O', None]\n"
     ]
    }
   ],
   "source": [
    "ttt.put(col=1, row=2, sign=\"O\")"
   ]
  },
  {
   "cell_type": "code",
   "execution_count": 5,
   "metadata": {},
   "outputs": [
    {
     "name": "stdout",
     "output_type": "stream",
     "text": [
      "[None, None, None]\n",
      "[None, 'X', None]\n",
      "[None, 'O', None]\n"
     ]
    }
   ],
   "source": [
    "ttt.put(col=1, row=1, sign=\"X\")"
   ]
  },
  {
   "cell_type": "code",
   "execution_count": 6,
   "metadata": {},
   "outputs": [
    {
     "name": "stdout",
     "output_type": "stream",
     "text": [
      "[None, None, None]\n",
      "[None, 'X', None]\n",
      "['O', 'O', None]\n"
     ]
    }
   ],
   "source": [
    "ttt.put(0, 2, sign=\"O\")"
   ]
  },
  {
   "cell_type": "code",
   "execution_count": 7,
   "metadata": {},
   "outputs": [
    {
     "name": "stdout",
     "output_type": "stream",
     "text": [
      "[None, 'X', None]\n",
      "[None, 'X', None]\n",
      "['O', 'O', None]\n"
     ]
    }
   ],
   "source": [
    "ttt.put(1, 0, sign=\"X\")"
   ]
  },
  {
   "cell_type": "code",
   "execution_count": null,
   "metadata": {},
   "outputs": [],
   "source": []
  }
 ],
 "metadata": {
  "kernelspec": {
   "display_name": "Python 3",
   "language": "python",
   "name": "python3"
  },
  "language_info": {
   "codemirror_mode": {
    "name": "ipython",
    "version": 3
   },
   "file_extension": ".py",
   "mimetype": "text/x-python",
   "name": "python",
   "nbconvert_exporter": "python",
   "pygments_lexer": "ipython3",
   "version": "3.7.9"
  }
 },
 "nbformat": 4,
 "nbformat_minor": 4
}
