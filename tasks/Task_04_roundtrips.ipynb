{
 "cells": [
  {
   "cell_type": "code",
   "execution_count": 1,
   "metadata": {},
   "outputs": [],
   "source": [
    "from math import floor"
   ]
  },
  {
   "cell_type": "markdown",
   "metadata": {},
   "source": [
    "Just when you told your colleagues how happy you were that you could solve all previous challenges, he told you about the following problem:\n",
    "\n",
    "We would like to find all roundtrips where a passenger took the same way on the route to the destination and back. Our colleague provided us with the following trip list that contains the origin and the destination of our passengers trips:"
   ]
  },
  {
   "cell_type": "code",
   "execution_count": 2,
   "metadata": {},
   "outputs": [],
   "source": [
    "triplist = [\n",
    "    \"FRA-NYC-NYC-FRA\",  # roundtrip\n",
    "    \"TXL-FRA-FRA-JFK\",  # roundtrip\n",
    "    \"FRA-TXL-FRA\",  # roundtrip\n",
    "    \"TXL-BUD\",  # no roundtrip\n",
    "    \"MUC-FRA-HND-HND-FRA-MUC\",  # roundtrip\n",
    "    \"CDG-MUC-FRA\"  # no roundtrip\n",
    "]"
   ]
  },
  {
   "cell_type": "code",
   "execution_count": null,
   "metadata": {
    "tags": [
     "task"
    ]
   },
   "outputs": [],
   "source": [
    "def is_roundtrip(flight):\n",
    "    # type your code here"
   ]
  },
  {
   "cell_type": "code",
   "execution_count": null,
   "metadata": {
    "tags": [
     "task"
    ]
   },
   "outputs": [],
   "source": [
    "roundtrips = # type your code here"
   ]
  },
  {
   "cell_type": "code",
   "execution_count": 5,
   "metadata": {},
   "outputs": [
    {
     "data": {
      "text/plain": [
       "[['FRA', 'NYC', 'NYC', 'FRA'],\n",
       " ['FRA', 'TXL', 'FRA'],\n",
       " ['MUC', 'FRA', 'HND', 'HND', 'FRA', 'MUC']]"
      ]
     },
     "execution_count": 5,
     "metadata": {},
     "output_type": "execute_result"
    }
   ],
   "source": [
    "roundtrips"
   ]
  }
 ],
 "metadata": {
  "kernelspec": {
   "display_name": "Python 3",
   "language": "python",
   "name": "python3"
  },
  "language_info": {
   "codemirror_mode": {
    "name": "ipython",
    "version": 3
   },
   "file_extension": ".py",
   "mimetype": "text/x-python",
   "name": "python",
   "nbconvert_exporter": "python",
   "pygments_lexer": "ipython3",
   "version": "3.7.9"
  }
 },
 "nbformat": 4,
 "nbformat_minor": 4
}
