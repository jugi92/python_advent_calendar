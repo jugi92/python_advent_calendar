{
 "cells": [
  {
   "cell_type": "markdown",
   "metadata": {},
   "source": [
    "When writing python code we often get a \"requirements.txt\" file that contains the required packages that need to be installed for the code to run. New packages in python can be installed with [pip](https://pip.pypa.io/en/stable/). It takes the packages in a format where each line contains one package followed by `==` and the required version like:\n",
    "```\n",
    "pandas==1.0.1\n",
    "koalas==1.2.0\n",
    "```"
   ]
  },
  {
   "cell_type": "markdown",
   "metadata": {},
   "source": [
    "On the databricks homepage we can find a table of python packages that are installed in the databricks environment:\n",
    "https://docs.databricks.com/release-notes/runtime/7.3.html#installed-python-libraries"
   ]
  },
  {
   "cell_type": "markdown",
   "metadata": {},
   "source": [
    "If we copy the table from the above mentioned website a string like the following is copied to our clipboard. The separator between columns here is a [tab separator](https://en.wikipedia.org/wiki/Tab-separated_values), as it is common for tables. The separator for lines is `\\n`. A list of other special characters can be found here:\n",
    "https://www.w3schools.com/python/python_strings_escape.asp"
   ]
  },
  {
   "cell_type": "code",
   "execution_count": 1,
   "metadata": {},
   "outputs": [],
   "source": [
    "messed_requirements = \"\"\"asn1crypto\t1.3.0\tbackcall\t0.1.0\tboto3\t1.12.0\n",
    "botocore\t1.15.0\tcertifi\t2020.6.20\tcffi\t1.14.0\n",
    "chardet\t3.0.4\tcryptography\t2.8\tcycler\t0.10.0\n",
    "Cython\t0.29.15\tdecorator\t4.4.1\tdocutils\t0.15.2\n",
    "entrypoints\t0.3\tidna\t2.8\tipykernel\t5.1.4\n",
    "ipython\t7.12.0\tipython-genutils\t0.2.0\tjedi\t0.14.1\n",
    "jmespath\t0.10.0\tjoblib\t0.14.1\tjupyter-client\t5.3.4\n",
    "jupyter-core\t4.6.1\tkiwisolver\t1.1.0\tkoalas\t1.2.0\n",
    "matplotlib\t3.1.3\tnumpy\t1.18.1\tpandas\t1.0.1\n",
    "parso\t0.5.2\tpatsy\t0.5.1\tpexpect\t4.8.0\n",
    "pickleshare\t0.7.5\tpip\t20.0.2\tprompt-toolkit\t3.0.3\n",
    "psycopg2\t2.8.4\tptyprocess\t0.6.0\tpyarrow\t1.0.1\n",
    "pycparser\t2.19\tPygments\t2.5.2\tPyGObject\t3.26.1\n",
    "pyOpenSSL\t19.1.0\tpyparsing\t2.4.6\tPySocks\t1.7.1\n",
    "python-apt\t1.6.5+ubuntu0.3\tpython-dateutil\t2.8.1\tpytz\t2019.3\n",
    "pyzmq\t18.1.1\trequests\t2.22.0\ts3transfer\t0.3.3\n",
    "scikit-learn\t0.22.1\tscipy\t1.4.1\tseaborn\t0.10.0\n",
    "setuptools\t45.2.0\tsix\t1.14.0\tssh-import-id\t5.7\n",
    "statsmodels\t0.11.0\ttornado\t6.0.3\ttraitlets\t4.3.3\n",
    "unattended-upgrades\t0.1\turllib3\t1.25.8\tvirtualenv\t16.7.10\n",
    "wcwidth\t0.1.8\twheel\t0.34.2\"\"\""
   ]
  },
  {
   "cell_type": "code",
   "execution_count": 2,
   "metadata": {},
   "outputs": [
    {
     "data": {
      "text/plain": [
       "'asn1crypto\\t1.3.0\\tbackcall\\t0.1.0\\tboto3\\t1.12.0\\nbotocore\\t1.15.0\\tcertifi\\t2020.6.20\\tcffi\\t1.14.0\\nchardet\\t3.0.4\\tcryptography\\t2.8\\tcycler\\t0.10.0\\nCython\\t0.29.15\\tdecorator\\t4.4.1\\tdocutils\\t0.15.2\\nentrypoints\\t0.3\\tidna\\t2.8\\tipykernel\\t5.1.4\\nipython\\t7.12.0\\tipython-genutils\\t0.2.0\\tjedi\\t0.14.1\\njmespath\\t0.10.0\\tjoblib\\t0.14.1\\tjupyter-client\\t5.3.4\\njupyter-core\\t4.6.1\\tkiwisolver\\t1.1.0\\tkoalas\\t1.2.0\\nmatplotlib\\t3.1.3\\tnumpy\\t1.18.1\\tpandas\\t1.0.1\\nparso\\t0.5.2\\tpatsy\\t0.5.1\\tpexpect\\t4.8.0\\npickleshare\\t0.7.5\\tpip\\t20.0.2\\tprompt-toolkit\\t3.0.3\\npsycopg2\\t2.8.4\\tptyprocess\\t0.6.0\\tpyarrow\\t1.0.1\\npycparser\\t2.19\\tPygments\\t2.5.2\\tPyGObject\\t3.26.1\\npyOpenSSL\\t19.1.0\\tpyparsing\\t2.4.6\\tPySocks\\t1.7.1\\npython-apt\\t1.6.5+ubuntu0.3\\tpython-dateutil\\t2.8.1\\tpytz\\t2019.3\\npyzmq\\t18.1.1\\trequests\\t2.22.0\\ts3transfer\\t0.3.3\\nscikit-learn\\t0.22.1\\tscipy\\t1.4.1\\tseaborn\\t0.10.0\\nsetuptools\\t45.2.0\\tsix\\t1.14.0\\tssh-import-id\\t5.7\\nstatsmodels\\t0.11.0\\ttornado\\t6.0.3\\ttraitlets\\t4.3.3\\nunattended-upgrades\\t0.1\\turllib3\\t1.25.8\\tvirtualenv\\t16.7.10\\nwcwidth\\t0.1.8\\twheel\\t0.34.2'"
      ]
     },
     "execution_count": 2,
     "metadata": {},
     "output_type": "execute_result"
    }
   ],
   "source": [
    "messed_requirements"
   ]
  },
  {
   "cell_type": "markdown",
   "metadata": {},
   "source": [
    "Python uses `\\t` as the tab separator in strings: https://www.w3schools.com/python/python_strings_escape.asp"
   ]
  },
  {
   "cell_type": "markdown",
   "metadata": {},
   "source": [
    "From this string we want to create a list that contains the packages and their versions as described above. "
   ]
  },
  {
   "cell_type": "code",
   "execution_count": 30,
   "metadata": {
    "tags": [
     "task"
    ]
   },
   "outputs": [],
   "source": [
    "# write your code here"
   ]
  },
  {
   "cell_type": "code",
   "execution_count": 8,
   "metadata": {},
   "outputs": [
    {
     "data": {
      "text/plain": [
       "['asn1crypto==1.3.0',\n",
       " 'backcall==0.1.0',\n",
       " 'boto3==1.12.0',\n",
       " 'botocore==1.15.0',\n",
       " 'certifi==2020.6.20',\n",
       " 'cffi==1.14.0',\n",
       " 'chardet==3.0.4',\n",
       " 'cryptography==2.8',\n",
       " 'cycler==0.10.0',\n",
       " 'Cython==0.29.15',\n",
       " 'decorator==4.4.1',\n",
       " 'docutils==0.15.2',\n",
       " 'entrypoints==0.3',\n",
       " 'idna==2.8',\n",
       " 'ipykernel==5.1.4',\n",
       " 'ipython==7.12.0',\n",
       " 'ipython-genutils==0.2.0',\n",
       " 'jedi==0.14.1',\n",
       " 'jmespath==0.10.0',\n",
       " 'joblib==0.14.1',\n",
       " 'jupyter-client==5.3.4',\n",
       " 'jupyter-core==4.6.1',\n",
       " 'kiwisolver==1.1.0',\n",
       " 'koalas==1.2.0',\n",
       " 'matplotlib==3.1.3',\n",
       " 'numpy==1.18.1',\n",
       " 'pandas==1.0.1',\n",
       " 'parso==0.5.2',\n",
       " 'patsy==0.5.1',\n",
       " 'pexpect==4.8.0',\n",
       " 'pickleshare==0.7.5',\n",
       " 'pip==20.0.2',\n",
       " 'prompt-toolkit==3.0.3',\n",
       " 'psycopg2==2.8.4',\n",
       " 'ptyprocess==0.6.0',\n",
       " 'pyarrow==1.0.1',\n",
       " 'pycparser==2.19',\n",
       " 'Pygments==2.5.2',\n",
       " 'PyGObject==3.26.1',\n",
       " 'pyOpenSSL==19.1.0',\n",
       " 'pyparsing==2.4.6',\n",
       " 'PySocks==1.7.1',\n",
       " 'python-apt==1.6.5+ubuntu0.3',\n",
       " 'python-dateutil==2.8.1',\n",
       " 'pytz==2019.3',\n",
       " 'pyzmq==18.1.1',\n",
       " 'requests==2.22.0',\n",
       " 's3transfer==0.3.3',\n",
       " 'scikit-learn==0.22.1',\n",
       " 'scipy==1.4.1',\n",
       " 'seaborn==0.10.0',\n",
       " 'setuptools==45.2.0',\n",
       " 'six==1.14.0',\n",
       " 'ssh-import-id==5.7',\n",
       " 'statsmodels==0.11.0',\n",
       " 'tornado==6.0.3',\n",
       " 'traitlets==4.3.3',\n",
       " 'unattended-upgrades==0.1',\n",
       " 'urllib3==1.25.8',\n",
       " 'virtualenv==16.7.10',\n",
       " 'wcwidth==0.1.8',\n",
       " 'wheel==0.34.2']"
      ]
     },
     "execution_count": 8,
     "metadata": {},
     "output_type": "execute_result"
    }
   ],
   "source": [
    "req"
   ]
  },
  {
   "cell_type": "markdown",
   "metadata": {},
   "source": [
    "If we achieved that we can then write the requirements to a file to use it with pip for installing the requirement packages."
   ]
  },
  {
   "cell_type": "code",
   "execution_count": 9,
   "metadata": {},
   "outputs": [],
   "source": [
    "with open(\"requirements_generated_from_table.txt\", \"w\") as f:\n",
    "    f.write(\"\\n\".join(req))"
   ]
  },
  {
   "cell_type": "markdown",
   "metadata": {},
   "source": [
    "Great, job done. We could now use the resulting file to install the packages that are also installed on Databricks."
   ]
  }
 ],
 "metadata": {
  "kernelspec": {
   "display_name": "Python 3",
   "language": "python",
   "name": "python3"
  },
  "language_info": {
   "codemirror_mode": {
    "name": "ipython",
    "version": 3
   },
   "file_extension": ".py",
   "mimetype": "text/x-python",
   "name": "python",
   "nbconvert_exporter": "python",
   "pygments_lexer": "ipython3",
   "version": "3.7.9"
  }
 },
 "nbformat": 4,
 "nbformat_minor": 4
}
