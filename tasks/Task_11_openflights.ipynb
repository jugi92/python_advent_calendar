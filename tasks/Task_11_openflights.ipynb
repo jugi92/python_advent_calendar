{
 "cells": [
  {
   "cell_type": "markdown",
   "metadata": {},
   "source": [
    "Even with open data we can do pretty astonishing things\n",
    "But first we need to get it.\n",
    "https://openflights.org/data.html provides a lot of information on airports, airlines and airplanes\n",
    "\n",
    "The routes of airlines for example can be downloaded from the following link as a Comma Separated Value (CSV) File: https://raw.githubusercontent.com/jpatokal/openflights/master/data/routes.dat\n",
    "The data description can be found here:\n",
    "https://openflights.org/data.html#route"
   ]
  },
  {
   "cell_type": "code",
   "execution_count": 1,
   "metadata": {},
   "outputs": [],
   "source": [
    "# we will use pandas to read the data\n",
    "import pandas as pd"
   ]
  },
  {
   "cell_type": "markdown",
   "metadata": {},
   "source": [
    "Read the data from the file available at the url as a pandas Dataframe and explore it a bit:"
   ]
  },
  {
   "cell_type": "code",
   "execution_count": null,
   "metadata": {
    "tags": [
     "task"
    ]
   },
   "outputs": [],
   "source": [
    "# write your code here"
   ]
  },
  {
   "cell_type": "markdown",
   "metadata": {},
   "source": [
    "Lets have a detailed look at the equipment that is used, find the most and least frequent used Equipments."
   ]
  },
  {
   "cell_type": "markdown",
   "metadata": {},
   "source": [
    "Try to also visualize your insights, if you need some help you can find it in the manual:https://pandas.pydata.org/pandas-docs/stable/user_guide/visualization.html"
   ]
  }
 ],
 "metadata": {
  "kernelspec": {
   "display_name": "Python 3",
   "language": "python",
   "name": "python3"
  },
  "language_info": {
   "codemirror_mode": {
    "name": "ipython",
    "version": 3
   },
   "file_extension": ".py",
   "mimetype": "text/x-python",
   "name": "python",
   "nbconvert_exporter": "python",
   "pygments_lexer": "ipython3",
   "version": "3.7.9"
  }
 },
 "nbformat": 4,
 "nbformat_minor": 4
}
