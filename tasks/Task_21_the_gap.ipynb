{
 "cells": [
  {
   "cell_type": "markdown",
   "metadata": {},
   "source": [
    "Below you can find the data from the world inequality database on the income in percent ranked by percent from 2000 to 2020.\n",
    "The first line can be read as the top 10% earners in 2020 earned 31% of the total income in germany, while the top 10% in india earned 39% of the total income of india.\n",
    "The task today is to plot the data to get a meaningful interpretation of it."
   ]
  },
  {
   "cell_type": "code",
   "execution_count": 1,
   "metadata": {},
   "outputs": [],
   "source": [
    "data = \"\"\"Percentile\tYear\tsptinc_z_DE\tsptinc_z_IN\n",
    "p90p100\t2000\t0,3176\t0,3987\n",
    "p90p100\t2001\t0,3184\t0,4095\n",
    "p90p100\t2002\t0,3197\t0,4206\n",
    "p90p100\t2003\t0,3128\t0,4318\n",
    "p90p100\t2004\t0,3239\t0,4432\n",
    "p90p100\t2005\t0,3442\t0,4548\n",
    "p90p100\t2006\t0,3487\t0,4676\n",
    "p90p100\t2007\t0,3661\t0,4807\n",
    "p90p100\t2008\t0,3634\t0,4941\n",
    "p90p100\t2009\t0,369\t0,5078\n",
    "p90p100\t2010\t0,3643\t0,5217\n",
    "p90p100\t2011\t0,3653\t0,5414\n",
    "p90p100\t2012\t0,3605\t0,55\n",
    "p90p100\t2013\t0,375\t0,5523\n",
    "p90p100\t2014\t0,3788\t0,561\n",
    "p90p100\t2015\t0,3794\t0,561\n",
    "p90p100\t2016\t0,3781\t0,5613\n",
    "p90p100\t2017\t0,3752\t0,5613\n",
    "p90p100\t2018\t0,3728\t0,5613\n",
    "p90p100\t2019\t0,3732\t0,5613\n",
    "p50p90\t2000\t0,4598\t0,3953\n",
    "p50p90\t2001\t0,4561\t0,3888\n",
    "p50p90\t2002\t0,4615\t0,3821\n",
    "p50p90\t2003\t0,4655\t0,3753\n",
    "p50p90\t2004\t0,4583\t0,3683\n",
    "p50p90\t2005\t0,4515\t0,3612\n",
    "p50p90\t2006\t0,4446\t0,3531\n",
    "p50p90\t2007\t0,4356\t0,3447\n",
    "p50p90\t2008\t0,4373\t0,3361\n",
    "p50p90\t2009\t0,4339\t0,3272\n",
    "p50p90\t2010\t0,4369\t0,3182\n",
    "p50p90\t2011\t0,4385\t0,3051\n",
    "p50p90\t2012\t0,4441\t0,2994\n",
    "p50p90\t2013\t0,4395\t0,2979\n",
    "p50p90\t2014\t0,4353\t0,2921\n",
    "p50p90\t2015\t0,4345\t0,2921\n",
    "p50p90\t2016\t0,4328\t0,2921\n",
    "p50p90\t2017\t0,4344\t0,2921\n",
    "p50p90\t2018\t0,4358\t0,2921\n",
    "p50p90\t2019\t0,4356\t0,2921\n",
    "p0p50\t2000\t0,2226\t0,206\n",
    "p0p50\t2001\t0,2255\t0,2017\n",
    "p0p50\t2002\t0,2188\t0,1973\n",
    "p0p50\t2003\t0,2217\t0,1929\n",
    "p0p50\t2004\t0,2178\t0,1884\n",
    "p0p50\t2005\t0,2043\t0,1839\n",
    "p0p50\t2006\t0,2067\t0,1793\n",
    "p0p50\t2007\t0,1982\t0,1746\n",
    "p0p50\t2008\t0,1993\t0,1699\n",
    "p0p50\t2009\t0,1971\t0,165\n",
    "p0p50\t2010\t0,1987\t0,1601\n",
    "p0p50\t2011\t0,1962\t0,1535\n",
    "p0p50\t2012\t0,1954\t0,1506\n",
    "p0p50\t2013\t0,1856\t0,1498\n",
    "p0p50\t2014\t0,1859\t0,1469\n",
    "p0p50\t2015\t0,1861\t0,1469\n",
    "p0p50\t2016\t0,1891\t0,1468\n",
    "p0p50\t2017\t0,1904\t0,1468\n",
    "p0p50\t2018\t0,1914\t0,1468\n",
    "p0p50\t2019\t0,1912\t0,1468\n",
    "\"\"\""
   ]
  },
  {
   "cell_type": "code",
   "execution_count": 2,
   "metadata": {},
   "outputs": [],
   "source": [
    "import pandas as pd\n",
    "import io\n",
    "import matplotlib.pyplot as plt"
   ]
  },
  {
   "cell_type": "code",
   "execution_count": 3,
   "metadata": {
    "tags": [
     "task"
    ]
   },
   "outputs": [],
   "source": [
    "# Write your code here"
   ]
  }
 ],
 "metadata": {
  "kernelspec": {
   "display_name": "Python 3",
   "language": "python",
   "name": "python3"
  },
  "language_info": {
   "codemirror_mode": {
    "name": "ipython",
    "version": 3
   },
   "file_extension": ".py",
   "mimetype": "text/x-python",
   "name": "python",
   "nbconvert_exporter": "python",
   "pygments_lexer": "ipython3",
   "version": "3.7.9"
  }
 },
 "nbformat": 4,
 "nbformat_minor": 4
}
